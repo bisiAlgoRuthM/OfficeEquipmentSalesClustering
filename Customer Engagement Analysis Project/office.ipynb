{
 "cells": [
  {
   "cell_type": "code",
   "execution_count": 282,
   "metadata": {},
   "outputs": [],
   "source": [
    "#import libraries\n",
    "import numpy as np\n",
    "import pandas as pd \n",
    "import seaborn as sns\n",
    "import matplotlib.pyplot as plt\n",
    "from scipy import stats\n",
    "from sklearn.cluster import KMeans\n",
    "from sklearn.metrics import silhouette_score\n",
    "from scipy.cluster.hierarchy import linkage, fcluster, dendrogram\n",
    "\n",
    "\n"
   ]
  },
  {
   "attachments": {},
   "cell_type": "markdown",
   "metadata": {},
   "source": [
    "<table>\n",
    "  <tr>\n",
    "    <th>Variable</th>\n",
    "    <th>Description</th>\n",
    "  </tr>\n",
    "  <tr>\n",
    "    <td>respondent_id</td>\n",
    "    <td>An identifier for our observations</td>\n",
    "  </tr>\n",
    "  <tr>\n",
    "    <td>variety_of_choice</td>\n",
    "    <td>Importance of this attribute on a 0-10 scale</td>\n",
    "  </tr>\n",
    "  <tr>\n",
    "    <td>electronics</td>\n",
    "    <td>Importance of this attribute on a 0-10 scale</td>\n",
    "  </tr>\n",
    "  <tr>\n",
    "    <td>furniture</td>\n",
    "    <td>Importance of this attribute on a 0-10 scale</td>\n",
    "  </tr>\n",
    "  <tr>\n",
    "    <td>quality_of_service</td>\n",
    "    <td>Importance of this attribute on a 0-10 scale</td>\n",
    "  </tr>\n",
    "  <tr>\n",
    "    <td>low_prices</td>\n",
    "    <td>Importance of this attribute on a 0-10 scale</td>\n",
    "  </tr>\n",
    "  <tr>\n",
    "    <td>return_policy</td>\n",
    "    <td>Importance of this attribute on a 0-10 scale</td>\n",
    "  </tr>\n",
    "  <tr>\n",
    "    <td>professional</td>\n",
    "    <td>Whether the respondent is a professional or not (e.g., student)</td>\n",
    "  </tr>\n",
    "  <tr>\n",
    "    <td>income</td>\n",
    "    <td>Gross annual income expressed in thousands of pound sterling</td>\n",
    "  </tr>\n",
    "  <tr>\n",
    "    <td>age</td>\n",
    "    <td>Respondents’ age in years</td>\n",
    "</table>\n"
   ]
  },
  {
   "cell_type": "code",
   "execution_count": 3,
   "metadata": {},
   "outputs": [
    {
     "name": "stdout",
     "output_type": "stream",
     "text": [
      "Number of rows and columns: (200, 10)\n"
     ]
    },
    {
     "data": {
      "text/html": [
       "<div>\n",
       "<style scoped>\n",
       "    .dataframe tbody tr th:only-of-type {\n",
       "        vertical-align: middle;\n",
       "    }\n",
       "\n",
       "    .dataframe tbody tr th {\n",
       "        vertical-align: top;\n",
       "    }\n",
       "\n",
       "    .dataframe thead th {\n",
       "        text-align: right;\n",
       "    }\n",
       "</style>\n",
       "<table border=\"1\" class=\"dataframe\">\n",
       "  <thead>\n",
       "    <tr style=\"text-align: right;\">\n",
       "      <th></th>\n",
       "      <th>respondent_id</th>\n",
       "      <th>variety_of_choice</th>\n",
       "      <th>electronics</th>\n",
       "      <th>furniture</th>\n",
       "      <th>quality_of_service</th>\n",
       "      <th>low_prices</th>\n",
       "      <th>return_policy</th>\n",
       "      <th>professional</th>\n",
       "      <th>income</th>\n",
       "      <th>age</th>\n",
       "    </tr>\n",
       "  </thead>\n",
       "  <tbody>\n",
       "    <tr>\n",
       "      <th>0</th>\n",
       "      <td>1</td>\n",
       "      <td>8</td>\n",
       "      <td>3</td>\n",
       "      <td>6</td>\n",
       "      <td>3</td>\n",
       "      <td>2</td>\n",
       "      <td>2</td>\n",
       "      <td>non-professional</td>\n",
       "      <td>16</td>\n",
       "      <td>28</td>\n",
       "    </tr>\n",
       "    <tr>\n",
       "      <th>1</th>\n",
       "      <td>2</td>\n",
       "      <td>6</td>\n",
       "      <td>3</td>\n",
       "      <td>1</td>\n",
       "      <td>4</td>\n",
       "      <td>7</td>\n",
       "      <td>1</td>\n",
       "      <td>non-professional</td>\n",
       "      <td>22</td>\n",
       "      <td>27</td>\n",
       "    </tr>\n",
       "    <tr>\n",
       "      <th>2</th>\n",
       "      <td>3</td>\n",
       "      <td>6</td>\n",
       "      <td>1</td>\n",
       "      <td>2</td>\n",
       "      <td>4</td>\n",
       "      <td>9</td>\n",
       "      <td>6</td>\n",
       "      <td>non-professional</td>\n",
       "      <td>18</td>\n",
       "      <td>22</td>\n",
       "    </tr>\n",
       "    <tr>\n",
       "      <th>3</th>\n",
       "      <td>4</td>\n",
       "      <td>8</td>\n",
       "      <td>3</td>\n",
       "      <td>3</td>\n",
       "      <td>4</td>\n",
       "      <td>8</td>\n",
       "      <td>7</td>\n",
       "      <td>non-professional</td>\n",
       "      <td>18</td>\n",
       "      <td>29</td>\n",
       "    </tr>\n",
       "    <tr>\n",
       "      <th>4</th>\n",
       "      <td>5</td>\n",
       "      <td>4</td>\n",
       "      <td>6</td>\n",
       "      <td>3</td>\n",
       "      <td>4</td>\n",
       "      <td>2</td>\n",
       "      <td>5</td>\n",
       "      <td>professional</td>\n",
       "      <td>35</td>\n",
       "      <td>51</td>\n",
       "    </tr>\n",
       "  </tbody>\n",
       "</table>\n",
       "</div>"
      ],
      "text/plain": [
       "   respondent_id  variety_of_choice  electronics  furniture  \\\n",
       "0              1                  8            3          6   \n",
       "1              2                  6            3          1   \n",
       "2              3                  6            1          2   \n",
       "3              4                  8            3          3   \n",
       "4              5                  4            6          3   \n",
       "\n",
       "   quality_of_service  low_prices  return_policy      professional  income  \\\n",
       "0                   3           2              2  non-professional      16   \n",
       "1                   4           7              1  non-professional      22   \n",
       "2                   4           9              6  non-professional      18   \n",
       "3                   4           8              7  non-professional      18   \n",
       "4                   4           2              5      professional      35   \n",
       "\n",
       "   age  \n",
       "0   28  \n",
       "1   27  \n",
       "2   22  \n",
       "3   29  \n",
       "4   51  "
      ]
     },
     "execution_count": 3,
     "metadata": {},
     "output_type": "execute_result"
    }
   ],
   "source": [
    "# Load your dataset into a DataFrame\n",
    "df = pd.read_csv(\"data/office.csv\")\n",
    "\n",
    "# Print the number of rows and columns\n",
    "print(\"Number of rows and columns:\", df.shape)\n",
    "\n",
    "# Print out the first five rows\n",
    "df.head()"
   ]
  },
  {
   "cell_type": "code",
   "execution_count": 4,
   "metadata": {},
   "outputs": [
    {
     "name": "stdout",
     "output_type": "stream",
     "text": [
      "<class 'pandas.core.frame.DataFrame'>\n",
      "RangeIndex: 200 entries, 0 to 199\n",
      "Data columns (total 10 columns):\n",
      " #   Column              Non-Null Count  Dtype \n",
      "---  ------              --------------  ----- \n",
      " 0   respondent_id       200 non-null    int64 \n",
      " 1   variety_of_choice   200 non-null    int64 \n",
      " 2   electronics         200 non-null    int64 \n",
      " 3   furniture           200 non-null    int64 \n",
      " 4   quality_of_service  200 non-null    int64 \n",
      " 5   low_prices          200 non-null    int64 \n",
      " 6   return_policy       200 non-null    int64 \n",
      " 7   professional        200 non-null    object\n",
      " 8   income              200 non-null    int64 \n",
      " 9   age                 200 non-null    int64 \n",
      "dtypes: int64(9), object(1)\n",
      "memory usage: 15.8+ KB\n"
     ]
    }
   ],
   "source": [
    "\n",
    "df.info()"
   ]
  },
  {
   "cell_type": "code",
   "execution_count": 5,
   "metadata": {},
   "outputs": [
    {
     "data": {
      "text/plain": [
       "respondent_id         0\n",
       "variety_of_choice     0\n",
       "electronics           0\n",
       "furniture             0\n",
       "quality_of_service    0\n",
       "low_prices            0\n",
       "return_policy         0\n",
       "professional          0\n",
       "income                0\n",
       "age                   0\n",
       "dtype: int64"
      ]
     },
     "execution_count": 5,
     "metadata": {},
     "output_type": "execute_result"
    }
   ],
   "source": [
    "#Checking for missing values\n",
    "df.isna().sum()"
   ]
  },
  {
   "cell_type": "code",
   "execution_count": 6,
   "metadata": {},
   "outputs": [
    {
     "data": {
      "text/html": [
       "<div>\n",
       "<style scoped>\n",
       "    .dataframe tbody tr th:only-of-type {\n",
       "        vertical-align: middle;\n",
       "    }\n",
       "\n",
       "    .dataframe tbody tr th {\n",
       "        vertical-align: top;\n",
       "    }\n",
       "\n",
       "    .dataframe thead th {\n",
       "        text-align: right;\n",
       "    }\n",
       "</style>\n",
       "<table border=\"1\" class=\"dataframe\">\n",
       "  <thead>\n",
       "    <tr style=\"text-align: right;\">\n",
       "      <th></th>\n",
       "      <th>respondent_id</th>\n",
       "      <th>variety_of_choice</th>\n",
       "      <th>electronics</th>\n",
       "      <th>furniture</th>\n",
       "      <th>quality_of_service</th>\n",
       "      <th>low_prices</th>\n",
       "      <th>return_policy</th>\n",
       "      <th>income</th>\n",
       "      <th>age</th>\n",
       "    </tr>\n",
       "  </thead>\n",
       "  <tbody>\n",
       "    <tr>\n",
       "      <th>count</th>\n",
       "      <td>200.000000</td>\n",
       "      <td>200.000000</td>\n",
       "      <td>200.000000</td>\n",
       "      <td>200.000000</td>\n",
       "      <td>200.000000</td>\n",
       "      <td>200.00000</td>\n",
       "      <td>200.000000</td>\n",
       "      <td>200.000000</td>\n",
       "      <td>200.000000</td>\n",
       "    </tr>\n",
       "    <tr>\n",
       "      <th>mean</th>\n",
       "      <td>100.500000</td>\n",
       "      <td>7.565000</td>\n",
       "      <td>4.450000</td>\n",
       "      <td>3.270000</td>\n",
       "      <td>3.530000</td>\n",
       "      <td>4.79500</td>\n",
       "      <td>4.250000</td>\n",
       "      <td>32.170000</td>\n",
       "      <td>32.515000</td>\n",
       "    </tr>\n",
       "    <tr>\n",
       "      <th>std</th>\n",
       "      <td>57.879185</td>\n",
       "      <td>2.011468</td>\n",
       "      <td>1.943292</td>\n",
       "      <td>2.373874</td>\n",
       "      <td>2.316448</td>\n",
       "      <td>2.53081</td>\n",
       "      <td>2.049022</td>\n",
       "      <td>22.695961</td>\n",
       "      <td>11.884696</td>\n",
       "    </tr>\n",
       "    <tr>\n",
       "      <th>min</th>\n",
       "      <td>1.000000</td>\n",
       "      <td>4.000000</td>\n",
       "      <td>1.000000</td>\n",
       "      <td>0.000000</td>\n",
       "      <td>1.000000</td>\n",
       "      <td>1.00000</td>\n",
       "      <td>1.000000</td>\n",
       "      <td>13.000000</td>\n",
       "      <td>21.000000</td>\n",
       "    </tr>\n",
       "    <tr>\n",
       "      <th>25%</th>\n",
       "      <td>50.750000</td>\n",
       "      <td>6.000000</td>\n",
       "      <td>3.000000</td>\n",
       "      <td>1.000000</td>\n",
       "      <td>2.000000</td>\n",
       "      <td>2.00000</td>\n",
       "      <td>3.000000</td>\n",
       "      <td>15.000000</td>\n",
       "      <td>24.000000</td>\n",
       "    </tr>\n",
       "    <tr>\n",
       "      <th>50%</th>\n",
       "      <td>100.500000</td>\n",
       "      <td>8.000000</td>\n",
       "      <td>4.500000</td>\n",
       "      <td>2.000000</td>\n",
       "      <td>3.000000</td>\n",
       "      <td>5.00000</td>\n",
       "      <td>4.000000</td>\n",
       "      <td>19.500000</td>\n",
       "      <td>27.000000</td>\n",
       "    </tr>\n",
       "    <tr>\n",
       "      <th>75%</th>\n",
       "      <td>150.250000</td>\n",
       "      <td>10.000000</td>\n",
       "      <td>6.000000</td>\n",
       "      <td>6.000000</td>\n",
       "      <td>4.000000</td>\n",
       "      <td>7.00000</td>\n",
       "      <td>6.000000</td>\n",
       "      <td>54.250000</td>\n",
       "      <td>38.000000</td>\n",
       "    </tr>\n",
       "    <tr>\n",
       "      <th>max</th>\n",
       "      <td>200.000000</td>\n",
       "      <td>10.000000</td>\n",
       "      <td>10.000000</td>\n",
       "      <td>7.000000</td>\n",
       "      <td>9.000000</td>\n",
       "      <td>10.00000</td>\n",
       "      <td>10.000000</td>\n",
       "      <td>95.000000</td>\n",
       "      <td>68.000000</td>\n",
       "    </tr>\n",
       "  </tbody>\n",
       "</table>\n",
       "</div>"
      ],
      "text/plain": [
       "       respondent_id  variety_of_choice  electronics   furniture  \\\n",
       "count     200.000000         200.000000   200.000000  200.000000   \n",
       "mean      100.500000           7.565000     4.450000    3.270000   \n",
       "std        57.879185           2.011468     1.943292    2.373874   \n",
       "min         1.000000           4.000000     1.000000    0.000000   \n",
       "25%        50.750000           6.000000     3.000000    1.000000   \n",
       "50%       100.500000           8.000000     4.500000    2.000000   \n",
       "75%       150.250000          10.000000     6.000000    6.000000   \n",
       "max       200.000000          10.000000    10.000000    7.000000   \n",
       "\n",
       "       quality_of_service  low_prices  return_policy      income         age  \n",
       "count          200.000000   200.00000     200.000000  200.000000  200.000000  \n",
       "mean             3.530000     4.79500       4.250000   32.170000   32.515000  \n",
       "std              2.316448     2.53081       2.049022   22.695961   11.884696  \n",
       "min              1.000000     1.00000       1.000000   13.000000   21.000000  \n",
       "25%              2.000000     2.00000       3.000000   15.000000   24.000000  \n",
       "50%              3.000000     5.00000       4.000000   19.500000   27.000000  \n",
       "75%              4.000000     7.00000       6.000000   54.250000   38.000000  \n",
       "max              9.000000    10.00000      10.000000   95.000000   68.000000  "
      ]
     },
     "execution_count": 6,
     "metadata": {},
     "output_type": "execute_result"
    }
   ],
   "source": [
    "#Descriptive Statistics\n",
    "df.describe()"
   ]
  },
  {
   "cell_type": "code",
   "execution_count": 227,
   "metadata": {},
   "outputs": [
    {
     "data": {
      "image/png": "[encoded data removed]",
      "text/plain": [
       "<Figure size 432x288 with 1 Axes>"
      ]
     },
     "metadata": {
      "needs_background": "light"
     },
     "output_type": "display_data"
    },
    {
     "data": {
      "image/png": "[encoded data removed]",
      "text/plain": [
       "<Figure size 432x288 with 1 Axes>"
      ]
     },
     "metadata": {
      "needs_background": "light"
     },
     "output_type": "display_data"
    }
   ],
   "source": [
    "\n",
    "non_att = df[[ 'income', 'age']]\n",
    "for feature in non_att:\n",
    "    sns.histplot(non_att[feature]) #Checking the distributions of the interactions\n",
    "    plt.title(feature + ' distribution')\n",
    "    plt.show()\n"
   ]
  },
  {
   "cell_type": "code",
   "execution_count": 226,
   "metadata": {},
   "outputs": [
    {
     "name": "stderr",
     "output_type": "stream",
     "text": [
      "C:\\Users\\user\\AppData\\Local\\Temp\\ipykernel_19680\\2892854639.py:4: SettingWithCopyWarning: \n",
      "A value is trying to be set on a copy of a slice from a DataFrame.\n",
      "Try using .loc[row_indexer,col_indexer] = value instead\n",
      "\n",
      "See the caveats in the documentation: https://pandas.pydata.org/pandas-docs/stable/user_guide/indexing.html#returning-a-view-versus-a-copy\n",
      "  non_att['professional'] = a\n"
     ]
    },
    {
     "data": {
      "text/plain": [
       "Text(0.5, 1.0, 'Univariate Analysis of Age and Income')"
      ]
     },
     "execution_count": 226,
     "metadata": {},
     "output_type": "execute_result"
    },
    {
     "data": {
      "image/png": "[encoded data removed]",
      "text/plain": [
       "<Figure size 864x504 with 1 Axes>"
      ]
     },
     "metadata": {
      "needs_background": "light"
     },
     "output_type": "display_data"
    }
   ],
   "source": [
    "x = df['professional']\n",
    "one_hot = pd.get_dummies(x)\n",
    "non_att['professional'] = one_hot['professional']\n",
    "\n",
    "plt.figure(figsize=(12,7))\n",
    "sns.scatterplot(x='age', y='income', hue='professional', data = non_att)\n",
    "plt.title('Univariate Analysis of Age and Income')"
   ]
  },
  {
   "attachments": {},
   "cell_type": "markdown",
   "metadata": {},
   "source": [
    "There seems to be two differenciable clusters on the basis of the two variables above.\n",
    "<li>Younger customers agesd 21-34 earning between 13 to 38 thousand British Pounds Sterling</li>\n",
    "<li>Customers aged 40 and above earning as high as 95 thousnd British Pounds Sterling</li>"
   ]
  },
  {
   "cell_type": "code",
   "execution_count": 143,
   "metadata": {},
   "outputs": [
    {
     "data": {
      "text/html": [
       "<div>\n",
       "<style scoped>\n",
       "    .dataframe tbody tr th:only-of-type {\n",
       "        vertical-align: middle;\n",
       "    }\n",
       "\n",
       "    .dataframe tbody tr th {\n",
       "        vertical-align: top;\n",
       "    }\n",
       "\n",
       "    .dataframe thead th {\n",
       "        text-align: right;\n",
       "    }\n",
       "</style>\n",
       "<table border=\"1\" class=\"dataframe\">\n",
       "  <thead>\n",
       "    <tr style=\"text-align: right;\">\n",
       "      <th></th>\n",
       "      <th>variety_of_choice</th>\n",
       "      <th>electronics</th>\n",
       "      <th>furniture</th>\n",
       "      <th>quality_of_service</th>\n",
       "      <th>low_prices</th>\n",
       "      <th>return_policy</th>\n",
       "    </tr>\n",
       "  </thead>\n",
       "  <tbody>\n",
       "    <tr>\n",
       "      <th>0</th>\n",
       "      <td>8</td>\n",
       "      <td>3</td>\n",
       "      <td>6</td>\n",
       "      <td>3</td>\n",
       "      <td>2</td>\n",
       "      <td>2</td>\n",
       "    </tr>\n",
       "    <tr>\n",
       "      <th>1</th>\n",
       "      <td>6</td>\n",
       "      <td>3</td>\n",
       "      <td>1</td>\n",
       "      <td>4</td>\n",
       "      <td>7</td>\n",
       "      <td>1</td>\n",
       "    </tr>\n",
       "    <tr>\n",
       "      <th>2</th>\n",
       "      <td>6</td>\n",
       "      <td>1</td>\n",
       "      <td>2</td>\n",
       "      <td>4</td>\n",
       "      <td>9</td>\n",
       "      <td>6</td>\n",
       "    </tr>\n",
       "    <tr>\n",
       "      <th>3</th>\n",
       "      <td>8</td>\n",
       "      <td>3</td>\n",
       "      <td>3</td>\n",
       "      <td>4</td>\n",
       "      <td>8</td>\n",
       "      <td>7</td>\n",
       "    </tr>\n",
       "    <tr>\n",
       "      <th>4</th>\n",
       "      <td>4</td>\n",
       "      <td>6</td>\n",
       "      <td>3</td>\n",
       "      <td>4</td>\n",
       "      <td>2</td>\n",
       "      <td>5</td>\n",
       "    </tr>\n",
       "    <tr>\n",
       "      <th>...</th>\n",
       "      <td>...</td>\n",
       "      <td>...</td>\n",
       "      <td>...</td>\n",
       "      <td>...</td>\n",
       "      <td>...</td>\n",
       "      <td>...</td>\n",
       "    </tr>\n",
       "    <tr>\n",
       "      <th>195</th>\n",
       "      <td>6</td>\n",
       "      <td>5</td>\n",
       "      <td>2</td>\n",
       "      <td>3</td>\n",
       "      <td>3</td>\n",
       "      <td>6</td>\n",
       "    </tr>\n",
       "    <tr>\n",
       "      <th>196</th>\n",
       "      <td>7</td>\n",
       "      <td>3</td>\n",
       "      <td>0</td>\n",
       "      <td>2</td>\n",
       "      <td>7</td>\n",
       "      <td>6</td>\n",
       "    </tr>\n",
       "    <tr>\n",
       "      <th>197</th>\n",
       "      <td>9</td>\n",
       "      <td>1</td>\n",
       "      <td>7</td>\n",
       "      <td>4</td>\n",
       "      <td>5</td>\n",
       "      <td>2</td>\n",
       "    </tr>\n",
       "    <tr>\n",
       "      <th>198</th>\n",
       "      <td>10</td>\n",
       "      <td>6</td>\n",
       "      <td>7</td>\n",
       "      <td>4</td>\n",
       "      <td>4</td>\n",
       "      <td>3</td>\n",
       "    </tr>\n",
       "    <tr>\n",
       "      <th>199</th>\n",
       "      <td>5</td>\n",
       "      <td>2</td>\n",
       "      <td>1</td>\n",
       "      <td>3</td>\n",
       "      <td>8</td>\n",
       "      <td>7</td>\n",
       "    </tr>\n",
       "  </tbody>\n",
       "</table>\n",
       "<p>200 rows × 6 columns</p>\n",
       "</div>"
      ],
      "text/plain": [
       "     variety_of_choice  electronics  furniture  quality_of_service  \\\n",
       "0                    8            3          6                   3   \n",
       "1                    6            3          1                   4   \n",
       "2                    6            1          2                   4   \n",
       "3                    8            3          3                   4   \n",
       "4                    4            6          3                   4   \n",
       "..                 ...          ...        ...                 ...   \n",
       "195                  6            5          2                   3   \n",
       "196                  7            3          0                   2   \n",
       "197                  9            1          7                   4   \n",
       "198                 10            6          7                   4   \n",
       "199                  5            2          1                   3   \n",
       "\n",
       "     low_prices  return_policy  \n",
       "0             2              2  \n",
       "1             7              1  \n",
       "2             9              6  \n",
       "3             8              7  \n",
       "4             2              5  \n",
       "..          ...            ...  \n",
       "195           3              6  \n",
       "196           7              6  \n",
       "197           5              2  \n",
       "198           4              3  \n",
       "199           8              7  \n",
       "\n",
       "[200 rows x 6 columns]"
      ]
     },
     "execution_count": 143,
     "metadata": {},
     "output_type": "execute_result"
    }
   ],
   "source": [
    "#Attitudinal Variables\n",
    "attitudinal = df[[ 'variety_of_choice', 'electronics', 'furniture','quality_of_service', 'low_prices', 'return_policy']]\n",
    "\n",
    "attitudinal\n",
    "\n",
    "\n",
    "#for feature in attitudinal:\n",
    " #   sns.histplot(attitudinal[feature]) #Checking the distributions of the interactions\n",
    "  #  plt.show()"
   ]
  },
  {
   "cell_type": "code",
   "execution_count": 8,
   "metadata": {},
   "outputs": [
    {
     "data": {
      "text/html": [
       "<div>\n",
       "<style scoped>\n",
       "    .dataframe tbody tr th:only-of-type {\n",
       "        vertical-align: middle;\n",
       "    }\n",
       "\n",
       "    .dataframe tbody tr th {\n",
       "        vertical-align: top;\n",
       "    }\n",
       "\n",
       "    .dataframe thead th {\n",
       "        text-align: right;\n",
       "    }\n",
       "</style>\n",
       "<table border=\"1\" class=\"dataframe\">\n",
       "  <thead>\n",
       "    <tr style=\"text-align: right;\">\n",
       "      <th></th>\n",
       "      <th>variety_of_choice</th>\n",
       "      <th>electronics</th>\n",
       "      <th>furniture</th>\n",
       "      <th>quality_of_service</th>\n",
       "      <th>low_prices</th>\n",
       "      <th>return_policy</th>\n",
       "    </tr>\n",
       "  </thead>\n",
       "  <tbody>\n",
       "    <tr>\n",
       "      <th>0</th>\n",
       "      <td>0.216803</td>\n",
       "      <td>-0.748029</td>\n",
       "      <td>1.152905</td>\n",
       "      <td>-0.229373</td>\n",
       "      <td>-1.107161</td>\n",
       "      <td>-1.100840</td>\n",
       "    </tr>\n",
       "    <tr>\n",
       "      <th>1</th>\n",
       "      <td>-0.779991</td>\n",
       "      <td>-0.748029</td>\n",
       "      <td>-0.958643</td>\n",
       "      <td>0.203406</td>\n",
       "      <td>0.873449</td>\n",
       "      <td>-1.590103</td>\n",
       "    </tr>\n",
       "    <tr>\n",
       "      <th>2</th>\n",
       "      <td>-0.779991</td>\n",
       "      <td>-1.779793</td>\n",
       "      <td>-0.536333</td>\n",
       "      <td>0.203406</td>\n",
       "      <td>1.665693</td>\n",
       "      <td>0.856209</td>\n",
       "    </tr>\n",
       "    <tr>\n",
       "      <th>3</th>\n",
       "      <td>0.216803</td>\n",
       "      <td>-0.748029</td>\n",
       "      <td>-0.114024</td>\n",
       "      <td>0.203406</td>\n",
       "      <td>1.269571</td>\n",
       "      <td>1.345471</td>\n",
       "    </tr>\n",
       "    <tr>\n",
       "      <th>4</th>\n",
       "      <td>-1.776785</td>\n",
       "      <td>0.799617</td>\n",
       "      <td>-0.114024</td>\n",
       "      <td>0.203406</td>\n",
       "      <td>-1.107161</td>\n",
       "      <td>0.366947</td>\n",
       "    </tr>\n",
       "    <tr>\n",
       "      <th>...</th>\n",
       "      <td>...</td>\n",
       "      <td>...</td>\n",
       "      <td>...</td>\n",
       "      <td>...</td>\n",
       "      <td>...</td>\n",
       "      <td>...</td>\n",
       "    </tr>\n",
       "    <tr>\n",
       "      <th>195</th>\n",
       "      <td>-0.779991</td>\n",
       "      <td>0.283735</td>\n",
       "      <td>-0.536333</td>\n",
       "      <td>-0.229373</td>\n",
       "      <td>-0.711039</td>\n",
       "      <td>0.856209</td>\n",
       "    </tr>\n",
       "    <tr>\n",
       "      <th>196</th>\n",
       "      <td>-0.281594</td>\n",
       "      <td>-0.748029</td>\n",
       "      <td>-1.380952</td>\n",
       "      <td>-0.662152</td>\n",
       "      <td>0.873449</td>\n",
       "      <td>0.856209</td>\n",
       "    </tr>\n",
       "    <tr>\n",
       "      <th>197</th>\n",
       "      <td>0.715199</td>\n",
       "      <td>-1.779793</td>\n",
       "      <td>1.575214</td>\n",
       "      <td>0.203406</td>\n",
       "      <td>0.081205</td>\n",
       "      <td>-1.100840</td>\n",
       "    </tr>\n",
       "    <tr>\n",
       "      <th>198</th>\n",
       "      <td>1.213596</td>\n",
       "      <td>0.799617</td>\n",
       "      <td>1.575214</td>\n",
       "      <td>0.203406</td>\n",
       "      <td>-0.314917</td>\n",
       "      <td>-0.611578</td>\n",
       "    </tr>\n",
       "    <tr>\n",
       "      <th>199</th>\n",
       "      <td>-1.278388</td>\n",
       "      <td>-1.263911</td>\n",
       "      <td>-0.958643</td>\n",
       "      <td>-0.229373</td>\n",
       "      <td>1.269571</td>\n",
       "      <td>1.345471</td>\n",
       "    </tr>\n",
       "  </tbody>\n",
       "</table>\n",
       "<p>200 rows × 6 columns</p>\n",
       "</div>"
      ],
      "text/plain": [
       "     variety_of_choice  electronics  furniture  quality_of_service  \\\n",
       "0             0.216803    -0.748029   1.152905           -0.229373   \n",
       "1            -0.779991    -0.748029  -0.958643            0.203406   \n",
       "2            -0.779991    -1.779793  -0.536333            0.203406   \n",
       "3             0.216803    -0.748029  -0.114024            0.203406   \n",
       "4            -1.776785     0.799617  -0.114024            0.203406   \n",
       "..                 ...          ...        ...                 ...   \n",
       "195          -0.779991     0.283735  -0.536333           -0.229373   \n",
       "196          -0.281594    -0.748029  -1.380952           -0.662152   \n",
       "197           0.715199    -1.779793   1.575214            0.203406   \n",
       "198           1.213596     0.799617   1.575214            0.203406   \n",
       "199          -1.278388    -1.263911  -0.958643           -0.229373   \n",
       "\n",
       "     low_prices  return_policy  \n",
       "0     -1.107161      -1.100840  \n",
       "1      0.873449      -1.590103  \n",
       "2      1.665693       0.856209  \n",
       "3      1.269571       1.345471  \n",
       "4     -1.107161       0.366947  \n",
       "..          ...            ...  \n",
       "195   -0.711039       0.856209  \n",
       "196    0.873449       0.856209  \n",
       "197    0.081205      -1.100840  \n",
       "198   -0.314917      -0.611578  \n",
       "199    1.269571       1.345471  \n",
       "\n",
       "[200 rows x 6 columns]"
      ]
     },
     "execution_count": 8,
     "metadata": {},
     "output_type": "execute_result"
    }
   ],
   "source": [
    "#Z-Score Standardadisation\n",
    "\n",
    "\n",
    "z_score_att = attitudinal.apply(stats.zscore)\n",
    "\n",
    "z_score_att"
   ]
  },
  {
   "cell_type": "code",
   "execution_count": 232,
   "metadata": {},
   "outputs": [],
   "source": [
    "att = z_score_att"
   ]
  },
  {
   "attachments": {},
   "cell_type": "markdown",
   "metadata": {},
   "source": [
    "After normalizing, lets see which variable has the smallest minimum value and which variable has the largest maximum values"
   ]
  },
  {
   "cell_type": "code",
   "execution_count": 233,
   "metadata": {},
   "outputs": [
    {
     "name": "stdout",
     "output_type": "stream",
     "text": [
      "electronics          -1.779793\n",
      "variety_of_choice    -1.776785\n",
      "return_policy        -1.590103\n",
      "low_prices           -1.503283\n",
      "furniture            -1.380952\n",
      "quality_of_service   -1.094930\n",
      "cluster_4             0.000000\n",
      "cluster_3             1.000000\n",
      "dtype: float64\n"
     ]
    }
   ],
   "source": [
    "min_values = z_score_att.min(axis=0)\n",
    "print(min_values.sort_values())\n"
   ]
  },
  {
   "cell_type": "code",
   "execution_count": 234,
   "metadata": {},
   "outputs": [
    {
     "name": "stdout",
     "output_type": "stream",
     "text": [
      "variety_of_choice     1.213596\n",
      "furniture             1.575214\n",
      "low_prices            2.061815\n",
      "quality_of_service    2.367300\n",
      "return_policy         2.813258\n",
      "electronics           2.863146\n",
      "cluster_3             3.000000\n",
      "cluster_4             3.000000\n",
      "dtype: float64\n"
     ]
    }
   ],
   "source": [
    "max_values = z_score_att.max(axis=0)\n",
    "print(max_values.sort_values())"
   ]
  },
  {
   "attachments": {},
   "cell_type": "markdown",
   "metadata": {},
   "source": [
    "We can see that the \"electronics\" variable has the lowest minimum value and the highest maximum value in the normalized dataset. "
   ]
  },
  {
   "attachments": {},
   "cell_type": "markdown",
   "metadata": {},
   "source": [
    "<h5>Finding the Right Number of Clusters</h5>\n",
    "Start by a clustering algorithm (K-Means) to determine the optimal number of clusters for the data. One method is the \"elbow\" method, where you plot the within-cluster sum of squares (WCSS) against the number of clusters and look for the \"elbow\" point where the reduction in WCSS begins to level off. \n",
    "\n",
    "<h3>Comparing Clustering Methods</h3>\n",
    " Now that we have prepared our data for clustering, we will be implementing it with Hierarchical Clustering and the K-means Clustering algorithms. \n",
    "\n",
    "\n",
    " <h5>Hierarchical Clustering</h5>\n",
    "We now perform heirarchical clustering on the standardised attitudinal variables using the method \"ward\" which  and plot a dendogram"
   ]
  },
  {
   "cell_type": "code",
   "execution_count": 235,
   "metadata": {},
   "outputs": [
    {
     "data": {
      "image/png": "[encoded data removed]",
      "text/plain": [
       "<Figure size 432x288 with 1 Axes>"
      ]
     },
     "metadata": {
      "needs_background": "light"
     },
     "output_type": "display_data"
    }
   ],
   "source": [
    "wcss = []\n",
    "for i in range(1, 11):\n",
    "    kmeans = KMeans(n_clusters=i, init='k-means++', max_iter=300, n_init=10, random_state=0)\n",
    "    kmeans.fit(z_score_att)\n",
    "    wcss.append(kmeans.inertia_)\n",
    "\n",
    "plt.plot(range(1, 11), wcss)\n",
    "plt.title('Elbow Method')\n",
    "plt.xlabel('Number of clusters')\n",
    "plt.ylabel('WCSS')\n",
    "plt.show()\n"
   ]
  },
  {
   "attachments": {},
   "cell_type": "markdown",
   "metadata": {},
   "source": [
    "The elbow point curve is fairly smooth and there is no clear elbow point, it can be difficult to determine the optimal number of clusters using the elbow method alone\n",
    "\n",
    "\n",
    "Suppose that after looking at the dendrogram and discussing with the\n",
    "marketing department, we decide to proceed with a 6-cluster solution.\n",
    "Let's create an hierarchical clustering algorithm on the normalized dataset and plot the dendogram"
   ]
  },
  {
   "cell_type": "code",
   "execution_count": 236,
   "metadata": {},
   "outputs": [
    {
     "data": {
      "image/png": "[encoded data removed]",
      "text/plain": [
       "<Figure size 432x288 with 1 Axes>"
      ]
     },
     "metadata": {
      "needs_background": "light"
     },
     "output_type": "display_data"
    }
   ],
   "source": [
    "\n",
    "# Define the range of k values to evaluate\n",
    "k_values = range(2, 7)\n",
    "\n",
    "# Evaluate the silhouette score for each k value\n",
    "silhouette_scores = []\n",
    "for k in k_values:\n",
    "    model = KMeans(n_clusters=k)\n",
    "    labels = model.fit_predict(att)\n",
    "    score = silhouette_score(att, labels)\n",
    "    silhouette_scores.append(score)\n",
    "\n",
    "# Plot the silhouette scores for each k value\n",
    "plt.plot(k_values, silhouette_scores, '-o')\n",
    "plt.xlabel('Number of Clusters (k)')\n",
    "plt.ylabel('Silhouette Score')\n",
    "plt.title('Comparison of K-Means Clustering Performance')\n",
    "plt.show()"
   ]
  },
  {
   "cell_type": "markdown",
   "metadata": {},
   "source": [
    "Comparing the 3 and 4 cluster solutions, it was observed that cluster 1 and 2 had the same members whike the third and fourth clusters are merged in the 3 cluster solution. I'll be going for the three cluster solution\n",
    "\n",
    "3 cluster -> [94,60,46]\n",
    "4 cluster -> [94,60, 29,17]\n"
   ]
  },
  {
   "attachments": {},
   "cell_type": "markdown",
   "metadata": {},
   "source": [
    "<h3>Hierarchical Clustering</h3>"
   ]
  },
  {
   "cell_type": "code",
   "execution_count": 255,
   "metadata": {},
   "outputs": [],
   "source": [
    "\n",
    "Z = linkage(z_score_att, method='ward')\n",
    "\n"
   ]
  },
  {
   "cell_type": "code",
   "execution_count": 256,
   "metadata": {},
   "outputs": [
    {
     "data": {
      "image/png": "[encoded data removed]",
      "text/plain": [
       "<Figure size 1224x1080 with 1 Axes>"
      ]
     },
     "metadata": {
      "needs_background": "light"
     },
     "output_type": "display_data"
    }
   ],
   "source": [
    "fig, ax = plt.subplots(figsize=(17, 15))\n",
    "dendrogram(Z)\n",
    "plt.show()"
   ]
  },
  {
   "attachments": {},
   "cell_type": "markdown",
   "metadata": {},
   "source": [
    "\n",
    "\n",
    "<li>The height at which entities merge represent the level of similarity between them. To return the cluster labels for each observation based on a given distance threshold, use the fcluster() function on the linkage matrix.</li>\n",
    "\n",
    "<li> From the dendogram, we can see the natural clusters as well as the outliers by cutting the graph at a height that seperates the entities into distinct groups.</li>\n",
    "<li> Asses the levels of similarity through the branches of the dendogram. At 15 as the heights(distance threshold), we have  the most natural clusters</li>\n",
    "\n",
    "<li> At that distance, we have 3 clusters"
   ]
  },
  {
   "attachments": {},
   "cell_type": "markdown",
   "metadata": {},
   "source": [
    "<h5>Cophetic Correlation Coefficient </h5>\n",
    "This compares how well a dendrogram (a tree diagram showing the hierarchical clustering of data) preserves the pairwise distances between the original data points. 0.84 indicates that the dendogram preserves the pair wise distances between the data points to a high degree"
   ]
  },
  {
   "cell_type": "code",
   "execution_count": 239,
   "metadata": {},
   "outputs": [
    {
     "name": "stdout",
     "output_type": "stream",
     "text": [
      "0.8365165679892046\n"
     ]
    }
   ],
   "source": [
    "from scipy.spatial.distance import pdist\n",
    "from scipy.cluster.hierarchy import cophenet\n",
    "\n",
    "distances = pdist(z_score_att)\n",
    "\n",
    "c, coph_dists = cophenet(Z, distances)\n",
    "print(c)"
   ]
  },
  {
   "cell_type": "code",
   "execution_count": 257,
   "metadata": {},
   "outputs": [
    {
     "data": {
      "text/plain": [
       "1    94\n",
       "2    60\n",
       "3    46\n",
       "dtype: int64"
      ]
     },
     "execution_count": 257,
     "metadata": {},
     "output_type": "execute_result"
    }
   ],
   "source": [
    "t = 15     #3 cluster solution\n",
    "\n",
    "cluster_3 = fcluster(Z, t=t, criterion='distance')\n",
    "\n",
    "#Number of observasions in each cluster\n",
    "cluster_count = pd.Series(cluster_3).value_counts()\n",
    "cluster_count\n",
    "\n",
    "\n"
   ]
  },
  {
   "attachments": {},
   "cell_type": "markdown",
   "metadata": {},
   "source": [
    "<h3>K-Means Clustering</h3>\n",
    "The highest silhouette score is around 4 clusters. Now that we know that, lets try a K means approach to see the number of observations in each cluster :"
   ]
  },
  {
   "cell_type": "code",
   "execution_count": 296,
   "metadata": {},
   "outputs": [
    {
     "name": "stdout",
     "output_type": "stream",
     "text": [
      "0    94\n",
      "1    60\n",
      "2    29\n",
      "3    17\n",
      "dtype: int64\n"
     ]
    }
   ],
   "source": [
    "from sklearn.cluster import KMeans\n",
    "\n",
    "# Create a KMeans object with 6 clusters\n",
    "kmeans = KMeans(n_clusters=4, random_state=0)\n",
    "\n",
    "# Fit the KMeans model to the data\n",
    "kmeans.fit(z_score_att)\n",
    "\n",
    "# Get the cluster labels for each data point\n",
    "labels = kmeans.labels_\n",
    "\n",
    "# Count the number of observations assigned to each cluster\n",
    "counts = pd.Series(labels).value_counts()\n",
    "\n",
    "# Print the counts for each cluster\n",
    "\n",
    "print(counts)\n",
    "\n"
   ]
  },
  {
   "attachments": {},
   "cell_type": "markdown",
   "metadata": {},
   "source": [
    "<h5>Segementation Plot of the mean each of the attitudinal variables per cluster</h5>"
   ]
  },
  {
   "cell_type": "code",
   "execution_count": 287,
   "metadata": {},
   "outputs": [],
   "source": [
    "att['cluster_3'] = cluster_3\n",
    "\n",
    "# Create a list of unique cluster labels\n",
    "cluster_labels = att['cluster_3'].unique()\n",
    "cluster_labels\n",
    "att.drop('cluster_4', inplace=True, axis=1)"
   ]
  },
  {
   "cell_type": "code",
   "execution_count": 288,
   "metadata": {},
   "outputs": [
    {
     "name": "stdout",
     "output_type": "stream",
     "text": [
      "           variety_of_choice  electronics  furniture  quality_of_service  \\\n",
      "cluster_3                                                                  \n",
      "1                   0.810637     0.437402   0.901316           -0.519427   \n",
      "2                  -0.323127    -0.799617  -0.874181           -0.200521   \n",
      "3                  -1.235049     0.149157  -0.701585            1.322986   \n",
      "\n",
      "           low_prices  return_policy  \n",
      "cluster_3                             \n",
      "1           -0.378128      -0.595963  \n",
      "2            1.328989       0.725739  \n",
      "3           -0.960768       0.271222  \n"
     ]
    },
    {
     "data": {
      "text/plain": [
       "Text(0.5, 1.0, 'Variable inportance by Cluster Distribution')"
      ]
     },
     "execution_count": 288,
     "metadata": {},
     "output_type": "execute_result"
    },
    {
     "data": {
      "image/png": "[encoded data removed]",
      "text/plain": [
       "<Figure size 1296x1296 with 1 Axes>"
      ]
     },
     "metadata": {
      "needs_background": "light"
     },
     "output_type": "display_data"
    }
   ],
   "source": [
    "# Group the data by cluster label and calculate the means of each variable within each cluster\n",
    "means = att.groupby('cluster_3').mean()\n",
    "\n",
    "# Print the means for each attitudinal variable per cluster\n",
    "print(means)\n",
    "\n",
    "fig, ax = plt.subplots(figsize=(18, 18))\n",
    "means.plot(kind='bar', ax=ax)\n",
    "ax.legend(fontsize=22)\n",
    "plt.title('Variable inportance by Cluster Distribution')"
   ]
  },
  {
   "attachments": {},
   "cell_type": "markdown",
   "metadata": {},
   "source": [
    "<h3>How to target each cluster of customers</h3>\n",
    "\n",
    "<li>Cluster 1</li>\n",
    "The members of this cluster value high quality electronics, good furniture and the availability of options when shopping for office equipment. Stay up to date with the latest technologies in office equipments and update inventory when needed.\n",
    "\n",
    "\n",
    "\n",
    "\n",
    "\n",
    "<l1>Cluster 2 </li>\n",
    "The members are very particular about low prices and a return policy. This group will benefit from discounted offers as well as a reasonale return and refund policy if possible. Create a system whereby customers can sign up and recieve points that add up to store credit or a discount\n",
    "\n",
    "\n",
    "\n",
    "\n",
    "<li>Cluster 3</li>\n",
    "The members of this group value quality of service significantly over other factors therefore the store has to improve its customer services by training agents as well as improving the overall ambience of the store."
   ]
  },
  {
   "cell_type": "code",
   "execution_count": 299,
   "metadata": {},
   "outputs": [
    {
     "data": {
      "text/plain": [
       "Text(0.5, 1.0, 'Variable inportance by Cluster Distribution')"
      ]
     },
     "execution_count": 299,
     "metadata": {},
     "output_type": "execute_result"
    },
    {
     "data": {
      "image/png": "[encoded data removed]",
      "text/plain": [
       "<Figure size 1296x1296 with 1 Axes>"
      ]
     },
     "metadata": {
      "needs_background": "light"
     },
     "output_type": "display_data"
    }
   ],
   "source": [
    "a = z_score_att\n",
    "a['cluster_4'] = kmeans.labels_\n",
    "\n",
    "# Group the data by cluster label and calculate the means of each variable within each cluster\n",
    "meanz = a.groupby('cluster_4').mean()\n",
    "\n",
    "fig1, ax = plt.subplots(figsize=(18, 18))\n",
    "meanz.plot(kind='bar', ax=ax)\n",
    "ax.legend(fontsize=22)\n",
    "plt.title('Variable inportance by Cluster Distribution')"
   ]
  },
  {
   "attachments": {},
   "cell_type": "markdown",
   "metadata": {},
   "source": [
    "<li>Cluster 4</li>\n",
    "In the 4-cluster solution, the first and second clusters are identical as the 3-cluster solution. However, the third cluster is further decomposed into two clusters in this case. While the main target of the third cluster remains the quality of service, the fourth cluster can be targeted through availability of electronics and a good return policy"
   ]
  },
  {
   "cell_type": "code",
   "execution_count": 300,
   "metadata": {},
   "outputs": [
    {
     "name": "stdout",
     "output_type": "stream",
     "text": [
      "0    94\n",
      "1    60\n",
      "2    46\n",
      "dtype: int64\n"
     ]
    }
   ],
   "source": [
    "from sklearn.cluster import KMeans\n",
    "\n",
    "# Create a KMeans object with 6 clusters\n",
    "kmeans1 = KMeans(n_clusters=3, random_state=0)\n",
    "\n",
    "# Fit the KMeans model to the data\n",
    "kmeans1.fit(z_score_att)\n",
    "\n",
    "# Get the cluster labels for each data point\n",
    "labelss = kmeans1.labels_\n",
    "\n",
    "# Count the number of observations assigned to each cluster\n",
    "counts = pd.Series(labelss).value_counts()\n",
    "\n",
    "# Print the counts for each cluster\n",
    "\n",
    "print(counts)\n"
   ]
  },
  {
   "attachments": {},
   "cell_type": "markdown",
   "metadata": {},
   "source": [
    "Hit Rate of Hierarchical and K means Clustering\n",
    "\n",
    "We can see the hit rate is 100% when using both algorithms"
   ]
  },
  {
   "cell_type": "code",
   "execution_count": 307,
   "metadata": {},
   "outputs": [
    {
     "data": {
      "text/plain": [
       "array([1, 2, 2, 2, 3, 2, 2, 1, 1, 2, 1, 3, 1, 3, 2, 1, 1, 2, 1, 3, 3, 1,\n",
       "       2, 3, 1, 1, 1, 3, 2, 1, 2, 1, 1, 1, 2, 2, 2, 3, 1, 1, 2, 1, 3, 3,\n",
       "       1, 2, 3, 1, 1, 1, 3, 1, 1, 1, 2, 2, 2, 3, 1, 1, 2, 1, 3, 3, 1, 2,\n",
       "       3, 1, 1, 1, 3, 2, 1, 2, 1, 1, 2, 2, 1, 1, 2, 1, 3, 1, 3, 2, 1, 1,\n",
       "       2, 1, 3, 3, 1, 2, 2, 2, 1, 1, 2, 1, 3, 1, 3, 2, 1, 1, 2, 1, 3, 3,\n",
       "       1, 2, 1, 1, 2, 2, 2, 3, 2, 2, 1, 1, 2, 1, 3, 1, 3, 2, 1, 1, 2, 1,\n",
       "       3, 3, 1, 2, 3, 1, 1, 1, 3, 2, 1, 2, 2, 1, 1, 2, 1, 3, 1, 3, 2, 1,\n",
       "       1, 2, 1, 3, 3, 1, 2, 3, 1, 1, 1, 3, 2, 1, 1, 2, 1, 3, 1, 3, 2, 1,\n",
       "       1, 2, 1, 3, 3, 1, 2, 3, 1, 1, 1, 3, 2, 1, 1, 2, 1, 3, 1, 3, 2, 1,\n",
       "       1, 2], dtype=int32)"
      ]
     },
     "execution_count": 307,
     "metadata": {},
     "output_type": "execute_result"
    }
   ],
   "source": [
    "#Hit Rate of Hierarchical and K means Clustering\n",
    "cluster_3"
   ]
  },
  {
   "cell_type": "code",
   "execution_count": 321,
   "metadata": {},
   "outputs": [],
   "source": [
    "cluster_3_k = []\n",
    "for i in  labelss:\n",
    "    cluster_3_k.append(i+1)\n",
    "    "
   ]
  },
  {
   "cell_type": "code",
   "execution_count": 322,
   "metadata": {},
   "outputs": [
    {
     "data": {
      "text/plain": [
       "array([ True,  True,  True,  True,  True,  True,  True,  True,  True,\n",
       "        True,  True,  True,  True,  True,  True,  True,  True,  True,\n",
       "        True,  True,  True,  True,  True,  True,  True,  True,  True,\n",
       "        True,  True,  True,  True,  True,  True,  True,  True,  True,\n",
       "        True,  True,  True,  True,  True,  True,  True,  True,  True,\n",
       "        True,  True,  True,  True,  True,  True,  True,  True,  True,\n",
       "        True,  True,  True,  True,  True,  True,  True,  True,  True,\n",
       "        True,  True,  True,  True,  True,  True,  True,  True,  True,\n",
       "        True,  True,  True,  True,  True,  True,  True,  True,  True,\n",
       "        True,  True,  True,  True,  True,  True,  True,  True,  True,\n",
       "        True,  True,  True,  True,  True,  True,  True,  True,  True,\n",
       "        True,  True,  True,  True,  True,  True,  True,  True,  True,\n",
       "        True,  True,  True,  True,  True,  True,  True,  True,  True,\n",
       "        True,  True,  True,  True,  True,  True,  True,  True,  True,\n",
       "        True,  True,  True,  True,  True,  True,  True,  True,  True,\n",
       "        True,  True,  True,  True,  True,  True,  True,  True,  True,\n",
       "        True,  True,  True,  True,  True,  True,  True,  True,  True,\n",
       "        True,  True,  True,  True,  True,  True,  True,  True,  True,\n",
       "        True,  True,  True,  True,  True,  True,  True,  True,  True,\n",
       "        True,  True,  True,  True,  True,  True,  True,  True,  True,\n",
       "        True,  True,  True,  True,  True,  True,  True,  True,  True,\n",
       "        True,  True,  True,  True,  True,  True,  True,  True,  True,\n",
       "        True,  True])"
      ]
     },
     "execution_count": 322,
     "metadata": {},
     "output_type": "execute_result"
    }
   ],
   "source": [
    "cluster_3_k == cluster_3"
   ]
  },
  {
   "cell_type": "code",
   "execution_count": 323,
   "metadata": {},
   "outputs": [
    {
     "data": {
      "text/html": [
       "<div>\n",
       "<style scoped>\n",
       "    .dataframe tbody tr th:only-of-type {\n",
       "        vertical-align: middle;\n",
       "    }\n",
       "\n",
       "    .dataframe tbody tr th {\n",
       "        vertical-align: top;\n",
       "    }\n",
       "\n",
       "    .dataframe thead th {\n",
       "        text-align: right;\n",
       "    }\n",
       "</style>\n",
       "<table border=\"1\" class=\"dataframe\">\n",
       "  <thead>\n",
       "    <tr style=\"text-align: right;\">\n",
       "      <th></th>\n",
       "      <th>respondent_id</th>\n",
       "      <th>variety_of_choice</th>\n",
       "      <th>electronics</th>\n",
       "      <th>furniture</th>\n",
       "      <th>quality_of_service</th>\n",
       "      <th>low_prices</th>\n",
       "      <th>return_policy</th>\n",
       "      <th>professional</th>\n",
       "      <th>income</th>\n",
       "      <th>age</th>\n",
       "      <th>labels</th>\n",
       "    </tr>\n",
       "  </thead>\n",
       "  <tbody>\n",
       "    <tr>\n",
       "      <th>0</th>\n",
       "      <td>1</td>\n",
       "      <td>8</td>\n",
       "      <td>3</td>\n",
       "      <td>6</td>\n",
       "      <td>3</td>\n",
       "      <td>2</td>\n",
       "      <td>2</td>\n",
       "      <td>non-professional</td>\n",
       "      <td>16</td>\n",
       "      <td>28</td>\n",
       "      <td>3</td>\n",
       "    </tr>\n",
       "    <tr>\n",
       "      <th>1</th>\n",
       "      <td>2</td>\n",
       "      <td>6</td>\n",
       "      <td>3</td>\n",
       "      <td>1</td>\n",
       "      <td>4</td>\n",
       "      <td>7</td>\n",
       "      <td>1</td>\n",
       "      <td>non-professional</td>\n",
       "      <td>22</td>\n",
       "      <td>27</td>\n",
       "      <td>1</td>\n",
       "    </tr>\n",
       "    <tr>\n",
       "      <th>2</th>\n",
       "      <td>3</td>\n",
       "      <td>6</td>\n",
       "      <td>1</td>\n",
       "      <td>2</td>\n",
       "      <td>4</td>\n",
       "      <td>9</td>\n",
       "      <td>6</td>\n",
       "      <td>non-professional</td>\n",
       "      <td>18</td>\n",
       "      <td>22</td>\n",
       "      <td>1</td>\n",
       "    </tr>\n",
       "    <tr>\n",
       "      <th>3</th>\n",
       "      <td>4</td>\n",
       "      <td>8</td>\n",
       "      <td>3</td>\n",
       "      <td>3</td>\n",
       "      <td>4</td>\n",
       "      <td>8</td>\n",
       "      <td>7</td>\n",
       "      <td>non-professional</td>\n",
       "      <td>18</td>\n",
       "      <td>29</td>\n",
       "      <td>1</td>\n",
       "    </tr>\n",
       "    <tr>\n",
       "      <th>4</th>\n",
       "      <td>5</td>\n",
       "      <td>4</td>\n",
       "      <td>6</td>\n",
       "      <td>3</td>\n",
       "      <td>4</td>\n",
       "      <td>2</td>\n",
       "      <td>5</td>\n",
       "      <td>professional</td>\n",
       "      <td>35</td>\n",
       "      <td>51</td>\n",
       "      <td>4</td>\n",
       "    </tr>\n",
       "    <tr>\n",
       "      <th>...</th>\n",
       "      <td>...</td>\n",
       "      <td>...</td>\n",
       "      <td>...</td>\n",
       "      <td>...</td>\n",
       "      <td>...</td>\n",
       "      <td>...</td>\n",
       "      <td>...</td>\n",
       "      <td>...</td>\n",
       "      <td>...</td>\n",
       "      <td>...</td>\n",
       "      <td>...</td>\n",
       "    </tr>\n",
       "    <tr>\n",
       "      <th>195</th>\n",
       "      <td>196</td>\n",
       "      <td>6</td>\n",
       "      <td>5</td>\n",
       "      <td>2</td>\n",
       "      <td>3</td>\n",
       "      <td>3</td>\n",
       "      <td>6</td>\n",
       "      <td>professional</td>\n",
       "      <td>77</td>\n",
       "      <td>42</td>\n",
       "      <td>4</td>\n",
       "    </tr>\n",
       "    <tr>\n",
       "      <th>196</th>\n",
       "      <td>197</td>\n",
       "      <td>7</td>\n",
       "      <td>3</td>\n",
       "      <td>0</td>\n",
       "      <td>2</td>\n",
       "      <td>7</td>\n",
       "      <td>6</td>\n",
       "      <td>professional</td>\n",
       "      <td>60</td>\n",
       "      <td>34</td>\n",
       "      <td>1</td>\n",
       "    </tr>\n",
       "    <tr>\n",
       "      <th>197</th>\n",
       "      <td>198</td>\n",
       "      <td>9</td>\n",
       "      <td>1</td>\n",
       "      <td>7</td>\n",
       "      <td>4</td>\n",
       "      <td>5</td>\n",
       "      <td>2</td>\n",
       "      <td>non-professional</td>\n",
       "      <td>14</td>\n",
       "      <td>24</td>\n",
       "      <td>3</td>\n",
       "    </tr>\n",
       "    <tr>\n",
       "      <th>198</th>\n",
       "      <td>199</td>\n",
       "      <td>10</td>\n",
       "      <td>6</td>\n",
       "      <td>7</td>\n",
       "      <td>4</td>\n",
       "      <td>4</td>\n",
       "      <td>3</td>\n",
       "      <td>non-professional</td>\n",
       "      <td>14</td>\n",
       "      <td>27</td>\n",
       "      <td>3</td>\n",
       "    </tr>\n",
       "    <tr>\n",
       "      <th>199</th>\n",
       "      <td>200</td>\n",
       "      <td>5</td>\n",
       "      <td>2</td>\n",
       "      <td>1</td>\n",
       "      <td>3</td>\n",
       "      <td>8</td>\n",
       "      <td>7</td>\n",
       "      <td>non-professional</td>\n",
       "      <td>20</td>\n",
       "      <td>22</td>\n",
       "      <td>1</td>\n",
       "    </tr>\n",
       "  </tbody>\n",
       "</table>\n",
       "<p>200 rows × 11 columns</p>\n",
       "</div>"
      ],
      "text/plain": [
       "     respondent_id  variety_of_choice  electronics  furniture  \\\n",
       "0                1                  8            3          6   \n",
       "1                2                  6            3          1   \n",
       "2                3                  6            1          2   \n",
       "3                4                  8            3          3   \n",
       "4                5                  4            6          3   \n",
       "..             ...                ...          ...        ...   \n",
       "195            196                  6            5          2   \n",
       "196            197                  7            3          0   \n",
       "197            198                  9            1          7   \n",
       "198            199                 10            6          7   \n",
       "199            200                  5            2          1   \n",
       "\n",
       "     quality_of_service  low_prices  return_policy      professional  income  \\\n",
       "0                     3           2              2  non-professional      16   \n",
       "1                     4           7              1  non-professional      22   \n",
       "2                     4           9              6  non-professional      18   \n",
       "3                     4           8              7  non-professional      18   \n",
       "4                     4           2              5      professional      35   \n",
       "..                  ...         ...            ...               ...     ...   \n",
       "195                   3           3              6      professional      77   \n",
       "196                   2           7              6      professional      60   \n",
       "197                   4           5              2  non-professional      14   \n",
       "198                   4           4              3  non-professional      14   \n",
       "199                   3           8              7  non-professional      20   \n",
       "\n",
       "     age  labels  \n",
       "0     28       3  \n",
       "1     27       1  \n",
       "2     22       1  \n",
       "3     29       1  \n",
       "4     51       4  \n",
       "..   ...     ...  \n",
       "195   42       4  \n",
       "196   34       1  \n",
       "197   24       3  \n",
       "198   27       3  \n",
       "199   22       1  \n",
       "\n",
       "[200 rows x 11 columns]"
      ]
     },
     "execution_count": 323,
     "metadata": {},
     "output_type": "execute_result"
    }
   ],
   "source": [
    "df"
   ]
  },
  {
   "cell_type": "code",
   "execution_count": null,
   "metadata": {},
   "outputs": [],
   "source": []
  }
 ],
 "metadata": {
  "kernelspec": {
   "display_name": "Python 3",
   "language": "python",
   "name": "python3"
  },
  "language_info": {
   "codemirror_mode": {
    "name": "ipython",
    "version": 3
   },
   "file_extension": ".py",
   "mimetype": "text/x-python",
   "name": "python",
   "nbconvert_exporter": "python",
   "pygments_lexer": "ipython3",
   "version": "3.10.2"
  },
  "orig_nbformat": 4
 },
 "nbformat": 4,
 "nbformat_minor": 2
}
